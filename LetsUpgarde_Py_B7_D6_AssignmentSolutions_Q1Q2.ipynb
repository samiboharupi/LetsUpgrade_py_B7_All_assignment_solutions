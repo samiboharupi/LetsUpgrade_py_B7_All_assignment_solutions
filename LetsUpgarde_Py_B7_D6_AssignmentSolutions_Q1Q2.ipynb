{
 "cells": [
  {
   "cell_type": "markdown",
   "metadata": {},
   "source": [
    "# Q1"
   ]
  },
  {
   "cell_type": "code",
   "execution_count": null,
   "metadata": {
    "collapsed": true
   },
   "outputs": [],
   "source": []
  },
  {
   "cell_type": "code",
   "execution_count": 9,
   "metadata": {
    "collapsed": true
   },
   "outputs": [],
   "source": [
    "class bankAccount():\n",
    "    def __init__(self,ownerName,balance):\n",
    "        self.ownerName = ownerName;\n",
    "        self.balance = balance;\n",
    "        \n",
    "    def deposits(self,depoAmt):\n",
    "        print(\"You deposited\",depoAmt,\"rupees\")\n",
    "        print(\"You have Rs\",self.balance + depoAmt,\"in your account\")\n",
    "        \n",
    "    def withdraw(self,withdrawAmt):\n",
    "        if self.balance < withdrawAmt:\n",
    "            print(\"Insuffucient Balance .Money can not be withdrawn !\")\n",
    "            print(\"Your current balance is Rs\",self.balance,\"only.\")\n",
    "        else:\n",
    "            print(\"Transcation succeeed ! Your current balance is\",self.balance - withdrawAmt)"
   ]
  },
  {
   "cell_type": "code",
   "execution_count": 10,
   "metadata": {},
   "outputs": [
    {
     "name": "stdout",
     "output_type": "stream",
     "text": [
      "You deposited 500 rupees\n",
      "You have Rs 20500 in your account\n"
     ]
    }
   ],
   "source": [
    "b = bankAccount(\"Sai\",20000)\n",
    "b.deposits(500)"
   ]
  },
  {
   "cell_type": "code",
   "execution_count": 11,
   "metadata": {},
   "outputs": [
    {
     "name": "stdout",
     "output_type": "stream",
     "text": [
      "Transcation succeeed ! Your current balance is 19000\n"
     ]
    }
   ],
   "source": [
    "b.withdraw(1000)"
   ]
  },
  {
   "cell_type": "code",
   "execution_count": null,
   "metadata": {
    "collapsed": true
   },
   "outputs": [],
   "source": []
  },
  {
   "cell_type": "markdown",
   "metadata": {},
   "source": [
    "# Q2"
   ]
  },
  {
   "cell_type": "code",
   "execution_count": 5,
   "metadata": {
    "collapsed": true
   },
   "outputs": [],
   "source": [
    "class cone():\n",
    "    def __init__(self,radius,height):\n",
    "        self.radius = radius\n",
    "        self.height = height\n",
    "        \n",
    "        \n",
    "    def volume(self):\n",
    "        vol = (math.pi * self.radius * self.radius * self.height )/ 3\n",
    "        print(\"Volume of cone is \"+ \"{:.2f}\".format(vol))\n",
    "        \n",
    "        \n",
    "    def surfaceArea(self):\n",
    "        area = math.pi * self.radius * (self.radius + math.sqrt(self.height*self.height + self.radius * self.radius))\n",
    "        print(\"Surfac ares of cone is \"+ \"{:.2f}\".format(area))"
   ]
  },
  {
   "cell_type": "code",
   "execution_count": 6,
   "metadata": {
    "collapsed": true
   },
   "outputs": [],
   "source": [
    "c = cone(5,12)"
   ]
  },
  {
   "cell_type": "code",
   "execution_count": 7,
   "metadata": {},
   "outputs": [
    {
     "name": "stdout",
     "output_type": "stream",
     "text": [
      "Volume of cone is 314.16\n"
     ]
    }
   ],
   "source": [
    "c.volume()"
   ]
  },
  {
   "cell_type": "code",
   "execution_count": 8,
   "metadata": {},
   "outputs": [
    {
     "name": "stdout",
     "output_type": "stream",
     "text": [
      "Surfac ares of cone is 282.74\n"
     ]
    }
   ],
   "source": [
    "c.surfaceArea()"
   ]
  },
  {
   "cell_type": "code",
   "execution_count": null,
   "metadata": {
    "collapsed": true
   },
   "outputs": [],
   "source": []
  }
 ],
 "metadata": {
  "kernelspec": {
   "display_name": "Python 3",
   "language": "python",
   "name": "python3"
  },
  "language_info": {
   "codemirror_mode": {
    "name": "ipython",
    "version": 3
   },
   "file_extension": ".py",
   "mimetype": "text/x-python",
   "name": "python",
   "nbconvert_exporter": "python",
   "pygments_lexer": "ipython3",
   "version": "3.6.3"
  }
 },
 "nbformat": 4,
 "nbformat_minor": 2
}
