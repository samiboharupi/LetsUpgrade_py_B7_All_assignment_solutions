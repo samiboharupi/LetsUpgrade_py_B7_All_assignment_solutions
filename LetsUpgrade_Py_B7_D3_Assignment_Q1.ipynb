{
 "cells": [
  {
   "cell_type": "code",
   "execution_count": 13,
   "metadata": {},
   "outputs": [
    {
     "name": "stdout",
     "output_type": "stream",
     "text": [
      "Enter the altitude required for landing : 900\n",
      "Safe to land\n"
     ]
    }
   ],
   "source": [
    "altitude = int(input(\"Enter the altitude required for landing : \"))\n",
    "\n",
    "if altitude <= 1000:\n",
    "    print(\"Safe to land\")\n",
    "elif altitude > 1000 and altitude < 5000:\n",
    "    print(\"Bring down to 1000 ft\")\n",
    "else:\n",
    "    print(\"Turn around and try again.\")"
   ]
  },
  {
   "cell_type": "code",
   "execution_count": null,
   "metadata": {
    "collapsed": true
   },
   "outputs": [],
   "source": []
  },
  {
   "cell_type": "code",
   "execution_count": null,
   "metadata": {
    "collapsed": true
   },
   "outputs": [],
   "source": []
  }
 ],
 "metadata": {
  "kernelspec": {
   "display_name": "Python 3",
   "language": "python",
   "name": "python3"
  },
  "language_info": {
   "codemirror_mode": {
    "name": "ipython",
    "version": 3
   },
   "file_extension": ".py",
   "mimetype": "text/x-python",
   "name": "python",
   "nbconvert_exporter": "python",
   "pygments_lexer": "ipython3",
   "version": "3.6.3"
  }
 },
 "nbformat": 4,
 "nbformat_minor": 2
}
